{
 "cells": [
  {
   "cell_type": "code",
   "execution_count": 1,
   "id": "a241253e",
   "metadata": {},
   "outputs": [
    {
     "data": {
      "text/plain": [
       "45"
      ]
     },
     "execution_count": 1,
     "metadata": {},
     "output_type": "execute_result"
    }
   ],
   "source": [
    "def listSum(sequence):\n",
    "    return sum(sequence)\n",
    "\n",
    "listSum([1,2,3,4,5,6,7,8,9])\n",
    "#Use python lists and make an list of numbers."
   ]
  },
  {
   "cell_type": "code",
   "execution_count": 12,
   "id": "bafc6208",
   "metadata": {},
   "outputs": [
    {
     "data": {
      "text/plain": [
       "{'3': 70}"
      ]
     },
     "execution_count": 12,
     "metadata": {},
     "output_type": "execute_result"
    }
   ],
   "source": [
    "def maxValueDict(mapping):\n",
    "\n",
    "    values = list(mapping.values())\n",
    "    keys = list(mapping.keys())\n",
    "    \n",
    "    maxValue = keys[values.index(max(values))]\n",
    "    \n",
    "    return {maxValue:mapping[maxValue]}\n",
    "    \n",
    "\n",
    "\n",
    "maxValueDict({\n",
    "   \"1\" : 50,\n",
    "   \"2\" : 60,\n",
    "   \"3\" : 70\n",
    "}\n",
    ")\n",
    "#Write a function in python in python, which will return maximum"
   ]
  },
  {
   "cell_type": "code",
   "execution_count": 18,
   "id": "bf13a754",
   "metadata": {},
   "outputs": [
    {
     "data": {
      "text/plain": [
       "4"
      ]
     },
     "execution_count": 18,
     "metadata": {},
     "output_type": "execute_result"
    }
   ],
   "source": [
    "def maxNumones(sequence):\n",
    "    \n",
    "    count = 0\n",
    "    countList = []\n",
    "    for i in sequence:\n",
    "        if i==0:\n",
    "            count = 0\n",
    "        else:\n",
    "            count+=1\n",
    "        \n",
    "        if count != 0:\n",
    "            \n",
    "            countList.append(count)\n",
    "        \n",
    "    return max(countList)\n",
    "            \n",
    "maxNumones([0,0,0,1,1,1,0,0,0,1,1,0,1,1,1,1,0,0,1,1])\n",
    "#Write a python function to the number of maximum consecutive  one’s present in the array."
   ]
  },
  {
   "cell_type": "code",
   "execution_count": null,
   "id": "3c0adede",
   "metadata": {},
   "outputs": [],
   "source": []
  }
 ],
 "metadata": {
  "kernelspec": {
   "display_name": "Python 3",
   "language": "python",
   "name": "python3"
  },
  "language_info": {
   "codemirror_mode": {
    "name": "ipython",
    "version": 3
   },
   "file_extension": ".py",
   "mimetype": "text/x-python",
   "name": "python",
   "nbconvert_exporter": "python",
   "pygments_lexer": "ipython3",
   "version": "3.8.8"
  }
 },
 "nbformat": 4,
 "nbformat_minor": 5
}
